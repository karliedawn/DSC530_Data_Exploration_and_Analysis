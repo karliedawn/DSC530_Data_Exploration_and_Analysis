{
 "cells": [
  {
   "cell_type": "markdown",
   "id": "91d709fa",
   "metadata": {},
   "source": [
    "# Assignment Week 2\n",
    "### Karlie Schwartzwald\n",
    "### DSC 530 Bellevue University\n",
    "### 6/15/2022\n",
    "---\n",
    "\n",
    "1. Display the text “Hello World! I wonder why that is always the default coding text to start with”"
   ]
  },
  {
   "cell_type": "code",
   "execution_count": 18,
   "id": "c17fc477",
   "metadata": {
    "scrolled": true
   },
   "outputs": [
    {
     "name": "stdout",
     "output_type": "stream",
     "text": [
      "Hello World! I wonder why that is always the default coding text to start with\n"
     ]
    }
   ],
   "source": [
    "print(\"Hello World! I wonder why that is always the default coding text to start with\")"
   ]
  },
  {
   "cell_type": "markdown",
   "id": "6c2c21e5",
   "metadata": {},
   "source": [
    "2. Add two numbers together"
   ]
  },
  {
   "cell_type": "code",
   "execution_count": 19,
   "id": "fc4881dc",
   "metadata": {},
   "outputs": [
    {
     "data": {
      "text/plain": [
       "5"
      ]
     },
     "execution_count": 19,
     "metadata": {},
     "output_type": "execute_result"
    }
   ],
   "source": [
    "2 + 3"
   ]
  },
  {
   "cell_type": "markdown",
   "id": "fee3bfd1",
   "metadata": {},
   "source": [
    "3. Subtract a number from another number"
   ]
  },
  {
   "cell_type": "code",
   "execution_count": 20,
   "id": "be0e899b",
   "metadata": {},
   "outputs": [
    {
     "data": {
      "text/plain": [
       "5"
      ]
     },
     "execution_count": 20,
     "metadata": {},
     "output_type": "execute_result"
    }
   ],
   "source": [
    "9 - 4"
   ]
  },
  {
   "cell_type": "markdown",
   "id": "cc7dbf03",
   "metadata": {},
   "source": [
    "4. Multiply two numbers"
   ]
  },
  {
   "cell_type": "code",
   "execution_count": 21,
   "id": "c54ce5b2",
   "metadata": {},
   "outputs": [
    {
     "data": {
      "text/plain": [
       "15"
      ]
     },
     "execution_count": 21,
     "metadata": {},
     "output_type": "execute_result"
    }
   ],
   "source": [
    "3 * 5"
   ]
  },
  {
   "cell_type": "markdown",
   "id": "f2849db4",
   "metadata": {},
   "source": [
    "5. Divide between two numbers"
   ]
  },
  {
   "cell_type": "code",
   "execution_count": 22,
   "id": "cbb9b13f",
   "metadata": {},
   "outputs": [
    {
     "data": {
      "text/plain": [
       "3.0"
      ]
     },
     "execution_count": 22,
     "metadata": {},
     "output_type": "execute_result"
    }
   ],
   "source": [
    "15 / 5"
   ]
  },
  {
   "cell_type": "markdown",
   "id": "2bb626e9",
   "metadata": {},
   "source": [
    "6. Concatenate two strings together (any words)"
   ]
  },
  {
   "cell_type": "code",
   "execution_count": 23,
   "id": "08b95732",
   "metadata": {},
   "outputs": [
    {
     "data": {
      "text/plain": [
       "'Hello World!'"
      ]
     },
     "execution_count": 23,
     "metadata": {},
     "output_type": "execute_result"
    }
   ],
   "source": [
    "\"Hello \" + \"World!\""
   ]
  },
  {
   "cell_type": "markdown",
   "id": "49e9af66",
   "metadata": {},
   "source": [
    "7. Create a list of 4 items (can be strings, numbers, both)"
   ]
  },
  {
   "cell_type": "code",
   "execution_count": 24,
   "id": "f1f2da80",
   "metadata": {},
   "outputs": [],
   "source": [
    "fruit = ['apple', 'orange' , 'banana', 'grapes']"
   ]
  },
  {
   "cell_type": "markdown",
   "id": "e3c026b3",
   "metadata": {},
   "source": [
    "8. Append an item to your list (again, can be a string, number)"
   ]
  },
  {
   "cell_type": "code",
   "execution_count": 25,
   "id": "f74de08c",
   "metadata": {},
   "outputs": [],
   "source": [
    "fruit.append('strawberry')"
   ]
  },
  {
   "cell_type": "markdown",
   "id": "c7b17b61",
   "metadata": {},
   "source": [
    "9. Create a tuple with 4 items (can be strings, numbers, both)"
   ]
  },
  {
   "cell_type": "code",
   "execution_count": 26,
   "id": "2a0e1725",
   "metadata": {},
   "outputs": [],
   "source": [
    "dinner = (6, 'chicken', 9.4, 'TRUE')"
   ]
  }
 ],
 "metadata": {
  "kernelspec": {
   "display_name": "Python 3 (ipykernel)",
   "language": "python",
   "name": "python3"
  },
  "language_info": {
   "codemirror_mode": {
    "name": "ipython",
    "version": 3
   },
   "file_extension": ".py",
   "mimetype": "text/x-python",
   "name": "python",
   "nbconvert_exporter": "python",
   "pygments_lexer": "ipython3",
   "version": "3.9.12"
  }
 },
 "nbformat": 4,
 "nbformat_minor": 5
}
